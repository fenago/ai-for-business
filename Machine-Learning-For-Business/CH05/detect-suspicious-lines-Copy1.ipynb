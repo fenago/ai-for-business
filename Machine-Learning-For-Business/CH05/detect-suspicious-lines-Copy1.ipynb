{
 "cells": [
  {
   "cell_type": "markdown",
   "metadata": {},
   "source": [
    "## Part 1: Load and examine the data"
   ]
  },
  {
   "cell_type": "markdown",
   "metadata": {},
   "source": [
    "To run the code in the notebook cell, change the name of the data_bucket from 'machliba' to the data_bucket holding your data and click into the cell and press Ctrl+Enter."
   ]
  },
  {
   "cell_type": "code",
   "execution_count": 26,
   "metadata": {},
   "outputs": [],
   "source": [
    "dataset = 'activities.csv' "
   ]
  },
  {
   "cell_type": "code",
   "execution_count": 27,
   "metadata": {},
   "outputs": [],
   "source": [
    "import pandas as pd\n",
    "from sklearn.model_selection import train_test_split"
   ]
  },
  {
   "cell_type": "code",
   "execution_count": 28,
   "metadata": {},
   "outputs": [
    {
     "data": {
      "text/html": [
       "<div>\n",
       "<style scoped>\n",
       "    .dataframe tbody tr th:only-of-type {\n",
       "        vertical-align: middle;\n",
       "    }\n",
       "\n",
       "    .dataframe tbody tr th {\n",
       "        vertical-align: top;\n",
       "    }\n",
       "\n",
       "    .dataframe thead th {\n",
       "        text-align: right;\n",
       "    }\n",
       "</style>\n",
       "<table border=\"1\" class=\"dataframe\">\n",
       "  <thead>\n",
       "    <tr style=\"text-align: right;\">\n",
       "      <th></th>\n",
       "      <th>Matter Number</th>\n",
       "      <th>Firm Name</th>\n",
       "      <th>Matter Type</th>\n",
       "      <th>Resource</th>\n",
       "      <th>Activity</th>\n",
       "      <th>Minutes</th>\n",
       "      <th>Fee</th>\n",
       "      <th>Total</th>\n",
       "      <th>Error</th>\n",
       "    </tr>\n",
       "  </thead>\n",
       "  <tbody>\n",
       "    <tr>\n",
       "      <th>5</th>\n",
       "      <td>0</td>\n",
       "      <td>Cox Group</td>\n",
       "      <td>Antitrust</td>\n",
       "      <td>Paralegal</td>\n",
       "      <td>Attend Court</td>\n",
       "      <td>110</td>\n",
       "      <td>50</td>\n",
       "      <td>91.67</td>\n",
       "      <td>False</td>\n",
       "    </tr>\n",
       "    <tr>\n",
       "      <th>6</th>\n",
       "      <td>0</td>\n",
       "      <td>Cox Group</td>\n",
       "      <td>Antitrust</td>\n",
       "      <td>Junior</td>\n",
       "      <td>Attend Court</td>\n",
       "      <td>505</td>\n",
       "      <td>150</td>\n",
       "      <td>1262.50</td>\n",
       "      <td>True</td>\n",
       "    </tr>\n",
       "    <tr>\n",
       "      <th>7</th>\n",
       "      <td>0</td>\n",
       "      <td>Cox Group</td>\n",
       "      <td>Antitrust</td>\n",
       "      <td>Paralegal</td>\n",
       "      <td>Attend Meeting</td>\n",
       "      <td>60</td>\n",
       "      <td>50</td>\n",
       "      <td>50.00</td>\n",
       "      <td>False</td>\n",
       "    </tr>\n",
       "  </tbody>\n",
       "</table>\n",
       "</div>"
      ],
      "text/plain": [
       "   Matter Number  Firm Name Matter Type   Resource        Activity  Minutes  \\\n",
       "5              0  Cox Group   Antitrust  Paralegal    Attend Court      110   \n",
       "6              0  Cox Group   Antitrust     Junior    Attend Court      505   \n",
       "7              0  Cox Group   Antitrust  Paralegal  Attend Meeting       60   \n",
       "\n",
       "   Fee    Total  Error  \n",
       "5   50    91.67  False  \n",
       "6  150  1262.50   True  \n",
       "7   50    50.00  False  "
      ]
     },
     "execution_count": 28,
     "metadata": {},
     "output_type": "execute_result"
    }
   ],
   "source": [
    "df = pd.read_csv(f's3://{data_bucket}/{subfolder}/{dataset}')\n",
    "df[5:8]"
   ]
  },
  {
   "cell_type": "code",
   "execution_count": 29,
   "metadata": {},
   "outputs": [
    {
     "data": {
      "text/plain": [
       "False    103935\n",
       "True       2030\n",
       "Name: Error, dtype: int64"
      ]
     },
     "execution_count": 29,
     "metadata": {},
     "output_type": "execute_result"
    }
   ],
   "source": [
    "df['Error'].value_counts() # Display the number of error lines: False = no error. True = error."
   ]
  },
  {
   "cell_type": "code",
   "execution_count": 30,
   "metadata": {},
   "outputs": [
    {
     "name": "stdout",
     "output_type": "stream",
     "text": [
      "Number of rows in dataset: 105965\n",
      "\n",
      "Matter types:\n",
      "Antitrust                 23922\n",
      "Insolvency                16499\n",
      "IPO                       14236\n",
      "Commercial arbitration    12927\n",
      "Project finance           11776\n",
      "M&A                        6460\n",
      "Structured finance         5498\n",
      "Asset recovery             4913\n",
      "Tax planning               4871\n",
      "Securities litigation      4863\n",
      "Name: Matter Type, dtype: int64\n",
      "\n",
      "Resources:\n",
      "Partner      26587\n",
      "Junior       26543\n",
      "Paralegal    26519\n",
      "Senior       26316\n",
      "Name: Resource, dtype: int64\n",
      "\n",
      "Activities:\n",
      "Prepare Opinion    26605\n",
      "Phone Call         26586\n",
      "Attend Court       26405\n",
      "Attend Meeting     26369\n",
      "Name: Activity, dtype: int64\n"
     ]
    }
   ],
   "source": [
    "print(f'Number of rows in dataset: {df.shape[0]}')\n",
    "print()\n",
    "print('Matter types:')\n",
    "print(df['Matter Type'].value_counts())\n",
    "print()\n",
    "print('Resources:')\n",
    "print(df['Resource'].value_counts())\n",
    "print()\n",
    "print('Activities:')\n",
    "print(df['Activity'].value_counts())"
   ]
  },
  {
   "cell_type": "markdown",
   "metadata": {},
   "source": [
    "## Part 2: Get the data into the right shape"
   ]
  },
  {
   "cell_type": "code",
   "execution_count": 31,
   "metadata": {},
   "outputs": [
    {
     "data": {
      "text/html": [
       "<div>\n",
       "<style scoped>\n",
       "    .dataframe tbody tr th:only-of-type {\n",
       "        vertical-align: middle;\n",
       "    }\n",
       "\n",
       "    .dataframe tbody tr th {\n",
       "        vertical-align: top;\n",
       "    }\n",
       "\n",
       "    .dataframe thead th {\n",
       "        text-align: right;\n",
       "    }\n",
       "</style>\n",
       "<table border=\"1\" class=\"dataframe\">\n",
       "  <thead>\n",
       "    <tr style=\"text-align: right;\">\n",
       "      <th></th>\n",
       "      <th>Matter Number</th>\n",
       "      <th>Firm Name</th>\n",
       "      <th>Minutes</th>\n",
       "      <th>Fee</th>\n",
       "      <th>Total</th>\n",
       "      <th>Error</th>\n",
       "      <th>Matter Type_Antitrust</th>\n",
       "      <th>Matter Type_Asset recovery</th>\n",
       "      <th>Matter Type_Commercial arbitration</th>\n",
       "      <th>Matter Type_IPO</th>\n",
       "      <th>...</th>\n",
       "      <th>Matter Type_Structured finance</th>\n",
       "      <th>Matter Type_Tax planning</th>\n",
       "      <th>Resource_Junior</th>\n",
       "      <th>Resource_Paralegal</th>\n",
       "      <th>Resource_Partner</th>\n",
       "      <th>Resource_Senior</th>\n",
       "      <th>Activity_Attend Court</th>\n",
       "      <th>Activity_Attend Meeting</th>\n",
       "      <th>Activity_Phone Call</th>\n",
       "      <th>Activity_Prepare Opinion</th>\n",
       "    </tr>\n",
       "  </thead>\n",
       "  <tbody>\n",
       "    <tr>\n",
       "      <th>0</th>\n",
       "      <td>0</td>\n",
       "      <td>Cox Group</td>\n",
       "      <td>85</td>\n",
       "      <td>70</td>\n",
       "      <td>99.17</td>\n",
       "      <td>False</td>\n",
       "      <td>1</td>\n",
       "      <td>0</td>\n",
       "      <td>0</td>\n",
       "      <td>0</td>\n",
       "      <td>...</td>\n",
       "      <td>0</td>\n",
       "      <td>0</td>\n",
       "      <td>0</td>\n",
       "      <td>1</td>\n",
       "      <td>0</td>\n",
       "      <td>0</td>\n",
       "      <td>0</td>\n",
       "      <td>0</td>\n",
       "      <td>0</td>\n",
       "      <td>1</td>\n",
       "    </tr>\n",
       "    <tr>\n",
       "      <th>1</th>\n",
       "      <td>0</td>\n",
       "      <td>Cox Group</td>\n",
       "      <td>505</td>\n",
       "      <td>150</td>\n",
       "      <td>1262.50</td>\n",
       "      <td>False</td>\n",
       "      <td>1</td>\n",
       "      <td>0</td>\n",
       "      <td>0</td>\n",
       "      <td>0</td>\n",
       "      <td>...</td>\n",
       "      <td>0</td>\n",
       "      <td>0</td>\n",
       "      <td>1</td>\n",
       "      <td>0</td>\n",
       "      <td>0</td>\n",
       "      <td>0</td>\n",
       "      <td>0</td>\n",
       "      <td>0</td>\n",
       "      <td>0</td>\n",
       "      <td>1</td>\n",
       "    </tr>\n",
       "    <tr>\n",
       "      <th>2</th>\n",
       "      <td>0</td>\n",
       "      <td>Cox Group</td>\n",
       "      <td>100</td>\n",
       "      <td>180</td>\n",
       "      <td>300.00</td>\n",
       "      <td>False</td>\n",
       "      <td>1</td>\n",
       "      <td>0</td>\n",
       "      <td>0</td>\n",
       "      <td>0</td>\n",
       "      <td>...</td>\n",
       "      <td>0</td>\n",
       "      <td>0</td>\n",
       "      <td>1</td>\n",
       "      <td>0</td>\n",
       "      <td>0</td>\n",
       "      <td>0</td>\n",
       "      <td>0</td>\n",
       "      <td>0</td>\n",
       "      <td>0</td>\n",
       "      <td>1</td>\n",
       "    </tr>\n",
       "  </tbody>\n",
       "</table>\n",
       "<p>3 rows × 24 columns</p>\n",
       "</div>"
      ],
      "text/plain": [
       "   Matter Number  Firm Name  Minutes  Fee    Total  Error  \\\n",
       "0              0  Cox Group       85   70    99.17  False   \n",
       "1              0  Cox Group      505  150  1262.50  False   \n",
       "2              0  Cox Group      100  180   300.00  False   \n",
       "\n",
       "   Matter Type_Antitrust  Matter Type_Asset recovery  \\\n",
       "0                      1                           0   \n",
       "1                      1                           0   \n",
       "2                      1                           0   \n",
       "\n",
       "   Matter Type_Commercial arbitration  Matter Type_IPO  ...  \\\n",
       "0                                   0                0  ...   \n",
       "1                                   0                0  ...   \n",
       "2                                   0                0  ...   \n",
       "\n",
       "   Matter Type_Structured finance  Matter Type_Tax planning  Resource_Junior  \\\n",
       "0                               0                         0                0   \n",
       "1                               0                         0                1   \n",
       "2                               0                         0                1   \n",
       "\n",
       "   Resource_Paralegal  Resource_Partner  Resource_Senior  \\\n",
       "0                   1                 0                0   \n",
       "1                   0                 0                0   \n",
       "2                   0                 0                0   \n",
       "\n",
       "   Activity_Attend Court  Activity_Attend Meeting  Activity_Phone Call  \\\n",
       "0                      0                        0                    0   \n",
       "1                      0                        0                    0   \n",
       "2                      0                        0                    0   \n",
       "\n",
       "   Activity_Prepare Opinion  \n",
       "0                         1  \n",
       "1                         1  \n",
       "2                         1  \n",
       "\n",
       "[3 rows x 24 columns]"
      ]
     },
     "execution_count": 31,
     "metadata": {},
     "output_type": "execute_result"
    }
   ],
   "source": [
    "encoded_df = pd.get_dummies(df, columns=['Matter Type','Resource','Activity']) \n",
    "encoded_df.head(3)"
   ]
  },
  {
   "cell_type": "markdown",
   "metadata": {},
   "source": [
    "## Part 3: Create training and validation datasets"
   ]
  },
  {
   "cell_type": "code",
   "execution_count": 32,
   "metadata": {
    "scrolled": true
   },
   "outputs": [
    {
     "name": "stdout",
     "output_type": "stream",
     "text": [
      "84772 rows in training data\n",
      "21193 rows in validation data\n"
     ]
    }
   ],
   "source": [
    "train_df, val_df, _, _ = train_test_split(encoded_df, encoded_df['Error'], test_size=0.2, random_state=0)\n",
    "train_df_no_result = train_df.drop(['Error','Firm Name'], axis=1)\n",
    "val_df_no_result = val_df.drop(['Error','Firm Name'], axis=1)\n",
    "print(f'{train_df.shape[0]} rows in training data')\n",
    "print(f'{val_df.shape[0]} rows in validation data')"
   ]
  },
  {
   "cell_type": "markdown",
   "metadata": {},
   "source": [
    "## Part 4: Train the model\n",
    "\n"
   ]
  },
  {
   "cell_type": "code",
   "execution_count": 33,
   "metadata": {},
   "outputs": [],
   "source": [
    "from sklearn.ensemble import IsolationForest\n",
    "import warnings\n",
    "warnings.filterwarnings(\"ignore\")"
   ]
  },
  {
   "cell_type": "code",
   "execution_count": 34,
   "metadata": {},
   "outputs": [],
   "source": [
    "isolationforest = IsolationForest(n_estimators=50)"
   ]
  },
  {
   "cell_type": "code",
   "execution_count": 35,
   "metadata": {},
   "outputs": [
    {
     "data": {
      "text/plain": [
       "IsolationForest(behaviour='old', bootstrap=False, contamination='legacy',\n",
       "                max_features=1.0, max_samples='auto', n_estimators=50,\n",
       "                n_jobs=None, random_state=None, verbose=0, warm_start=False)"
      ]
     },
     "execution_count": 35,
     "metadata": {},
     "output_type": "execute_result"
    }
   ],
   "source": [
    "isolationforest.fit(train_df_no_result.values)"
   ]
  },
  {
   "cell_type": "markdown",
   "metadata": {},
   "source": [
    "## Part 6: Test the model"
   ]
  },
  {
   "cell_type": "code",
   "execution_count": 36,
   "metadata": {
    "scrolled": true
   },
   "outputs": [],
   "source": [
    "predictions = isolationforest.predict(val_df_no_result.values)"
   ]
  },
  {
   "cell_type": "code",
   "execution_count": 37,
   "metadata": {},
   "outputs": [],
   "source": [
    "scores = isolationforest.decision_function(val_df_no_result.values)"
   ]
  },
  {
   "cell_type": "code",
   "execution_count": 38,
   "metadata": {},
   "outputs": [
    {
     "data": {
      "text/plain": [
       "False    20791\n",
       "True       402\n",
       "Name: Error, dtype: int64"
      ]
     },
     "execution_count": 38,
     "metadata": {},
     "output_type": "execute_result"
    }
   ],
   "source": [
    "scores_df = pd.DataFrame({\"score\":scores})\n",
    "val_df = val_df.reset_index(drop=True)\n",
    "results_df = pd.concat([val_df, scores_df], axis=1)\n",
    "results_df['Error'].value_counts()"
   ]
  },
  {
   "cell_type": "code",
   "execution_count": 39,
   "metadata": {},
   "outputs": [
    {
     "name": "stdout",
     "output_type": "stream",
     "text": [
      "Score cutoff: -0.03517825701605348\n"
     ]
    },
    {
     "data": {
      "text/plain": [
       "False    20721\n",
       "True       201\n",
       "Name: Error, dtype: int64"
      ]
     },
     "execution_count": 39,
     "metadata": {},
     "output_type": "execute_result"
    }
   ],
   "source": [
    "score_cutoff = results_df[results_df['Error'] == True]['score'].median()\n",
    "print(f'Score cutoff: {score_cutoff}')\n",
    "results_above_cutoff = results_df[results_df['score'] > score_cutoff]\n",
    "results_above_cutoff['Error'].value_counts()"
   ]
  },
  {
   "cell_type": "code",
   "execution_count": 40,
   "metadata": {},
   "outputs": [
    {
     "data": {
      "text/html": [
       "<div>\n",
       "<style scoped>\n",
       "    .dataframe tbody tr th:only-of-type {\n",
       "        vertical-align: middle;\n",
       "    }\n",
       "\n",
       "    .dataframe tbody tr th {\n",
       "        vertical-align: top;\n",
       "    }\n",
       "\n",
       "    .dataframe thead th {\n",
       "        text-align: right;\n",
       "    }\n",
       "</style>\n",
       "<table border=\"1\" class=\"dataframe\">\n",
       "  <thead>\n",
       "    <tr style=\"text-align: right;\">\n",
       "      <th></th>\n",
       "      <th>Matter Number</th>\n",
       "      <th>Firm Name</th>\n",
       "      <th>Minutes</th>\n",
       "      <th>Fee</th>\n",
       "      <th>Total</th>\n",
       "      <th>Error</th>\n",
       "      <th>Matter Type_Antitrust</th>\n",
       "      <th>Matter Type_Asset recovery</th>\n",
       "      <th>Matter Type_Commercial arbitration</th>\n",
       "      <th>Matter Type_IPO</th>\n",
       "      <th>...</th>\n",
       "      <th>Resource_Junior</th>\n",
       "      <th>Resource_Paralegal</th>\n",
       "      <th>Resource_Partner</th>\n",
       "      <th>Resource_Senior</th>\n",
       "      <th>Activity_Attend Court</th>\n",
       "      <th>Activity_Attend Meeting</th>\n",
       "      <th>Activity_Phone Call</th>\n",
       "      <th>Activity_Prepare Opinion</th>\n",
       "      <th>score</th>\n",
       "      <th>Prediction</th>\n",
       "    </tr>\n",
       "  </thead>\n",
       "  <tbody>\n",
       "    <tr>\n",
       "      <th>0</th>\n",
       "      <td>0</td>\n",
       "      <td>Cox Group</td>\n",
       "      <td>100</td>\n",
       "      <td>50</td>\n",
       "      <td>83.33</td>\n",
       "      <td>False</td>\n",
       "      <td>1</td>\n",
       "      <td>0</td>\n",
       "      <td>0</td>\n",
       "      <td>0</td>\n",
       "      <td>...</td>\n",
       "      <td>0</td>\n",
       "      <td>1</td>\n",
       "      <td>0</td>\n",
       "      <td>0</td>\n",
       "      <td>0</td>\n",
       "      <td>0</td>\n",
       "      <td>0</td>\n",
       "      <td>1</td>\n",
       "      <td>0.015254</td>\n",
       "      <td>True</td>\n",
       "    </tr>\n",
       "    <tr>\n",
       "      <th>1</th>\n",
       "      <td>1986</td>\n",
       "      <td>Russo Ltd</td>\n",
       "      <td>20</td>\n",
       "      <td>80</td>\n",
       "      <td>26.67</td>\n",
       "      <td>False</td>\n",
       "      <td>0</td>\n",
       "      <td>0</td>\n",
       "      <td>0</td>\n",
       "      <td>0</td>\n",
       "      <td>...</td>\n",
       "      <td>0</td>\n",
       "      <td>1</td>\n",
       "      <td>0</td>\n",
       "      <td>0</td>\n",
       "      <td>0</td>\n",
       "      <td>0</td>\n",
       "      <td>1</td>\n",
       "      <td>0</td>\n",
       "      <td>0.018495</td>\n",
       "      <td>True</td>\n",
       "    </tr>\n",
       "    <tr>\n",
       "      <th>2</th>\n",
       "      <td>1254</td>\n",
       "      <td>Peters, Nelson and Moyer</td>\n",
       "      <td>120</td>\n",
       "      <td>70</td>\n",
       "      <td>140.00</td>\n",
       "      <td>False</td>\n",
       "      <td>1</td>\n",
       "      <td>0</td>\n",
       "      <td>0</td>\n",
       "      <td>0</td>\n",
       "      <td>...</td>\n",
       "      <td>0</td>\n",
       "      <td>1</td>\n",
       "      <td>0</td>\n",
       "      <td>0</td>\n",
       "      <td>1</td>\n",
       "      <td>0</td>\n",
       "      <td>0</td>\n",
       "      <td>0</td>\n",
       "      <td>0.050401</td>\n",
       "      <td>True</td>\n",
       "    </tr>\n",
       "    <tr>\n",
       "      <th>3</th>\n",
       "      <td>1777</td>\n",
       "      <td>Jackson, Pollard and Levy</td>\n",
       "      <td>25</td>\n",
       "      <td>180</td>\n",
       "      <td>75.00</td>\n",
       "      <td>False</td>\n",
       "      <td>0</td>\n",
       "      <td>0</td>\n",
       "      <td>0</td>\n",
       "      <td>0</td>\n",
       "      <td>...</td>\n",
       "      <td>1</td>\n",
       "      <td>0</td>\n",
       "      <td>0</td>\n",
       "      <td>0</td>\n",
       "      <td>0</td>\n",
       "      <td>0</td>\n",
       "      <td>1</td>\n",
       "      <td>0</td>\n",
       "      <td>0.015483</td>\n",
       "      <td>True</td>\n",
       "    </tr>\n",
       "    <tr>\n",
       "      <th>4</th>\n",
       "      <td>113</td>\n",
       "      <td>Solis, Adams and Cooper</td>\n",
       "      <td>25</td>\n",
       "      <td>600</td>\n",
       "      <td>250.00</td>\n",
       "      <td>False</td>\n",
       "      <td>0</td>\n",
       "      <td>1</td>\n",
       "      <td>0</td>\n",
       "      <td>0</td>\n",
       "      <td>...</td>\n",
       "      <td>0</td>\n",
       "      <td>0</td>\n",
       "      <td>1</td>\n",
       "      <td>0</td>\n",
       "      <td>0</td>\n",
       "      <td>0</td>\n",
       "      <td>1</td>\n",
       "      <td>0</td>\n",
       "      <td>-0.001701</td>\n",
       "      <td>True</td>\n",
       "    </tr>\n",
       "  </tbody>\n",
       "</table>\n",
       "<p>5 rows × 26 columns</p>\n",
       "</div>"
      ],
      "text/plain": [
       "   Matter Number                  Firm Name  Minutes  Fee   Total  Error  \\\n",
       "0              0                  Cox Group      100   50   83.33  False   \n",
       "1           1986                  Russo Ltd       20   80   26.67  False   \n",
       "2           1254   Peters, Nelson and Moyer      120   70  140.00  False   \n",
       "3           1777  Jackson, Pollard and Levy       25  180   75.00  False   \n",
       "4            113    Solis, Adams and Cooper       25  600  250.00  False   \n",
       "\n",
       "   Matter Type_Antitrust  Matter Type_Asset recovery  \\\n",
       "0                      1                           0   \n",
       "1                      0                           0   \n",
       "2                      1                           0   \n",
       "3                      0                           0   \n",
       "4                      0                           1   \n",
       "\n",
       "   Matter Type_Commercial arbitration  Matter Type_IPO  ...  Resource_Junior  \\\n",
       "0                                   0                0  ...                0   \n",
       "1                                   0                0  ...                0   \n",
       "2                                   0                0  ...                0   \n",
       "3                                   0                0  ...                1   \n",
       "4                                   0                0  ...                0   \n",
       "\n",
       "   Resource_Paralegal  Resource_Partner  Resource_Senior  \\\n",
       "0                   1                 0                0   \n",
       "1                   1                 0                0   \n",
       "2                   1                 0                0   \n",
       "3                   0                 0                0   \n",
       "4                   0                 1                0   \n",
       "\n",
       "   Activity_Attend Court  Activity_Attend Meeting  Activity_Phone Call  \\\n",
       "0                      0                        0                    0   \n",
       "1                      0                        0                    1   \n",
       "2                      1                        0                    0   \n",
       "3                      0                        0                    1   \n",
       "4                      0                        0                    1   \n",
       "\n",
       "   Activity_Prepare Opinion     score  Prediction  \n",
       "0                         1  0.015254        True  \n",
       "1                         0  0.018495        True  \n",
       "2                         0  0.050401        True  \n",
       "3                         0  0.015483        True  \n",
       "4                         0 -0.001701        True  \n",
       "\n",
       "[5 rows x 26 columns]"
      ]
     },
     "execution_count": 40,
     "metadata": {},
     "output_type": "execute_result"
    }
   ],
   "source": [
    "results_df['Prediction'] = results_df['score'] > score_cutoff\n",
    "results_df.head()"
   ]
  },
  {
   "cell_type": "code",
   "execution_count": null,
   "metadata": {},
   "outputs": [],
   "source": []
  }
 ],
 "metadata": {
  "kernelspec": {
   "display_name": "Python 3",
   "language": "python",
   "name": "python3"
  },
  "language_info": {
   "codemirror_mode": {
    "name": "ipython",
    "version": 3
   },
   "file_extension": ".py",
   "mimetype": "text/x-python",
   "name": "python",
   "nbconvert_exporter": "python",
   "pygments_lexer": "ipython3",
   "version": "3.7.3"
  }
 },
 "nbformat": 4,
 "nbformat_minor": 4
}
