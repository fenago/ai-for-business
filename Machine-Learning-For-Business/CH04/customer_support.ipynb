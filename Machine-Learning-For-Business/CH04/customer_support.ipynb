{
 "cells": [
  {
   "cell_type": "markdown",
   "metadata": {},
   "source": [
    "# Deciding whether to escalate a customer support issue\n",
    "\n",
    "## Part 1: Load and examine the data"
   ]
  },
  {
   "cell_type": "code",
   "execution_count": 1,
   "metadata": {},
   "outputs": [],
   "source": [
    "dataset = 'inbound.csv'"
   ]
  },
  {
   "cell_type": "code",
   "execution_count": 2,
   "metadata": {},
   "outputs": [
    {
     "name": "stderr",
     "output_type": "stream",
     "text": [
      "[nltk_data] Downloading package punkt to /home/jovyan/nltk_data...\n",
      "[nltk_data]   Package punkt is already up-to-date!\n"
     ]
    },
    {
     "data": {
      "text/plain": [
       "True"
      ]
     },
     "execution_count": 2,
     "metadata": {},
     "output_type": "execute_result"
    }
   ],
   "source": [
    "import pandas as pd                               \n",
    "from sklearn.model_selection import train_test_split\n",
    "import nltk\n",
    "nltk.download('punkt')"
   ]
  },
  {
   "cell_type": "code",
   "execution_count": 3,
   "metadata": {},
   "outputs": [
    {
     "data": {
      "text/html": [
       "<div>\n",
       "<style scoped>\n",
       "    .dataframe tbody tr th:only-of-type {\n",
       "        vertical-align: middle;\n",
       "    }\n",
       "\n",
       "    .dataframe tbody tr th {\n",
       "        vertical-align: top;\n",
       "    }\n",
       "\n",
       "    .dataframe thead th {\n",
       "        text-align: right;\n",
       "    }\n",
       "</style>\n",
       "<table border=\"1\" class=\"dataframe\">\n",
       "  <thead>\n",
       "    <tr style=\"text-align: right;\">\n",
       "      <th></th>\n",
       "      <th>tweet_id</th>\n",
       "      <th>author_id</th>\n",
       "      <th>created_at</th>\n",
       "      <th>in_reply_to</th>\n",
       "      <th>text</th>\n",
       "      <th>escalate</th>\n",
       "    </tr>\n",
       "  </thead>\n",
       "  <tbody>\n",
       "    <tr>\n",
       "      <th>0</th>\n",
       "      <td>2</td>\n",
       "      <td>115712</td>\n",
       "      <td>Tue Oct 31 22:11:45 +0000 2017</td>\n",
       "      <td>sprintcare</td>\n",
       "      <td>@sprintcare and how do you propose we do that</td>\n",
       "      <td>False</td>\n",
       "    </tr>\n",
       "    <tr>\n",
       "      <th>1</th>\n",
       "      <td>3</td>\n",
       "      <td>115712</td>\n",
       "      <td>Tue Oct 31 22:08:27 +0000 2017</td>\n",
       "      <td>sprintcare</td>\n",
       "      <td>@sprintcare I have sent several private messag...</td>\n",
       "      <td>True</td>\n",
       "    </tr>\n",
       "    <tr>\n",
       "      <th>2</th>\n",
       "      <td>5</td>\n",
       "      <td>115712</td>\n",
       "      <td>Tue Oct 31 21:49:35 +0000 2017</td>\n",
       "      <td>sprintcare</td>\n",
       "      <td>@sprintcare I did.</td>\n",
       "      <td>False</td>\n",
       "    </tr>\n",
       "    <tr>\n",
       "      <th>3</th>\n",
       "      <td>16</td>\n",
       "      <td>115713</td>\n",
       "      <td>Tue Oct 31 20:00:43 +0000 2017</td>\n",
       "      <td>sprintcare</td>\n",
       "      <td>@sprintcare Since I signed up with you....Sinc...</td>\n",
       "      <td>False</td>\n",
       "    </tr>\n",
       "    <tr>\n",
       "      <th>4</th>\n",
       "      <td>22</td>\n",
       "      <td>115716</td>\n",
       "      <td>Tue Oct 31 22:16:48 +0000 2017</td>\n",
       "      <td>Ask_Spectrum</td>\n",
       "      <td>@Ask_Spectrum Would you like me to email you a...</td>\n",
       "      <td>False</td>\n",
       "    </tr>\n",
       "  </tbody>\n",
       "</table>\n",
       "</div>"
      ],
      "text/plain": [
       "   tweet_id  author_id                      created_at   in_reply_to  \\\n",
       "0         2     115712  Tue Oct 31 22:11:45 +0000 2017    sprintcare   \n",
       "1         3     115712  Tue Oct 31 22:08:27 +0000 2017    sprintcare   \n",
       "2         5     115712  Tue Oct 31 21:49:35 +0000 2017    sprintcare   \n",
       "3        16     115713  Tue Oct 31 20:00:43 +0000 2017    sprintcare   \n",
       "4        22     115716  Tue Oct 31 22:16:48 +0000 2017  Ask_Spectrum   \n",
       "\n",
       "                                                text  escalate  \n",
       "0      @sprintcare and how do you propose we do that     False  \n",
       "1  @sprintcare I have sent several private messag...      True  \n",
       "2                                 @sprintcare I did.     False  \n",
       "3  @sprintcare Since I signed up with you....Sinc...     False  \n",
       "4  @Ask_Spectrum Would you like me to email you a...     False  "
      ]
     },
     "metadata": {},
     "output_type": "display_data"
    },
    {
     "name": "stdout",
     "output_type": "stream",
     "text": [
      "CPU times: user 1.09 s, sys: 187 ms, total: 1.27 s\n",
      "Wall time: 1.27 s\n"
     ]
    }
   ],
   "source": [
    "%%time\n",
    "df = pd.read_csv(f'{dataset}')\n",
    "display(df.head())"
   ]
  },
  {
   "cell_type": "code",
   "execution_count": 4,
   "metadata": {},
   "outputs": [
    {
     "name": "stdout",
     "output_type": "stream",
     "text": [
      "Number of rows in dataset: 520793\n",
      "False    417800\n",
      "True     102993\n",
      "Name: escalate, dtype: int64\n"
     ]
    }
   ],
   "source": [
    "print(f'Number of rows in dataset: {df.shape[0]}')\n",
    "print(df['escalate'].value_counts())"
   ]
  },
  {
   "cell_type": "markdown",
   "metadata": {},
   "source": [
    "## Part 2: Get the data into the right shape"
   ]
  },
  {
   "cell_type": "code",
   "execution_count": 5,
   "metadata": {},
   "outputs": [
    {
     "name": "stdout",
     "output_type": "stream",
     "text": [
      "416634 rows in training data\n",
      "104159 rows in validation data\n"
     ]
    }
   ],
   "source": [
    "train_df, val_df, _, _ = train_test_split(df, df['escalate'], test_size=0.2, random_state=0)\n",
    "print(f'{train_df.shape[0]} rows in training data')\n",
    "print(f'{val_df.shape[0]} rows in validation data')"
   ]
  },
  {
   "cell_type": "markdown",
   "metadata": {},
   "source": [
    "## Part 3: Create training and validation datasets"
   ]
  },
  {
   "cell_type": "code",
   "execution_count": 6,
   "metadata": {},
   "outputs": [
    {
     "data": {
      "text/html": [
       "<div>\n",
       "<style scoped>\n",
       "    .dataframe tbody tr th:only-of-type {\n",
       "        vertical-align: middle;\n",
       "    }\n",
       "\n",
       "    .dataframe tbody tr th {\n",
       "        vertical-align: top;\n",
       "    }\n",
       "\n",
       "    .dataframe thead th {\n",
       "        text-align: right;\n",
       "    }\n",
       "</style>\n",
       "<table border=\"1\" class=\"dataframe\">\n",
       "  <thead>\n",
       "    <tr style=\"text-align: right;\">\n",
       "      <th></th>\n",
       "      <th>0</th>\n",
       "    </tr>\n",
       "  </thead>\n",
       "  <tbody>\n",
       "    <tr>\n",
       "      <th>0</th>\n",
       "      <td>[__label__1, @ 115990 no joke ... this is one ...</td>\n",
       "    </tr>\n",
       "    <tr>\n",
       "      <th>1</th>\n",
       "      <td>[__label__0, @ amazonhelp primeira camada ... ...</td>\n",
       "    </tr>\n",
       "    <tr>\n",
       "      <th>2</th>\n",
       "      <td>[__label__1, @ microsofthelps my mistake]</td>\n",
       "    </tr>\n",
       "    <tr>\n",
       "      <th>3</th>\n",
       "      <td>[__label__1, @ 770932 @ americanair they notor...</td>\n",
       "    </tr>\n",
       "    <tr>\n",
       "      <th>4</th>\n",
       "      <td>[__label__1, @ amazonhelp neither man seems to...</td>\n",
       "    </tr>\n",
       "  </tbody>\n",
       "</table>\n",
       "</div>"
      ],
      "text/plain": [
       "                                                   0\n",
       "0  [__label__1, @ 115990 no joke ... this is one ...\n",
       "1  [__label__0, @ amazonhelp primeira camada ... ...\n",
       "2          [__label__1, @ microsofthelps my mistake]\n",
       "3  [__label__1, @ 770932 @ americanair they notor...\n",
       "4  [__label__1, @ amazonhelp neither man seems to..."
      ]
     },
     "metadata": {},
     "output_type": "display_data"
    },
    {
     "name": "stdout",
     "output_type": "stream",
     "text": [
      "CPU times: user 25.3 s, sys: 94 ms, total: 25.4 s\n",
      "Wall time: 25.4 s\n"
     ]
    }
   ],
   "source": [
    "%%time\n",
    "\n",
    "def preprocess(df):\n",
    "    all_rows = df.values.tolist()\n",
    "    transformed_rows = list(map(transform_instance, all_rows))\n",
    "    transformed_df = pd.DataFrame(transformed_rows)\n",
    "    return transformed_df\n",
    "\n",
    "def transform_instance(row):\n",
    "    cur_row = []\n",
    "    label = \"__label__1\" if row[5] == True else \"__label__0\" # Prefix 0 or 1 from sentiment\n",
    "    new = []\n",
    "    new.append(label)\n",
    "    new.append(\" \".join(nltk.word_tokenize(row[4].lower())))\n",
    "    cur_row.append(new)\n",
    "    return cur_row\n",
    "\n",
    "transformed_validation_rows = preprocess(val_df)\n",
    "display(transformed_validation_rows.head())"
   ]
  },
  {
   "cell_type": "code",
   "execution_count": 7,
   "metadata": {},
   "outputs": [
    {
     "data": {
      "text/html": [
       "<div>\n",
       "<style scoped>\n",
       "    .dataframe tbody tr th:only-of-type {\n",
       "        vertical-align: middle;\n",
       "    }\n",
       "\n",
       "    .dataframe tbody tr th {\n",
       "        vertical-align: top;\n",
       "    }\n",
       "\n",
       "    .dataframe thead th {\n",
       "        text-align: right;\n",
       "    }\n",
       "</style>\n",
       "<table border=\"1\" class=\"dataframe\">\n",
       "  <thead>\n",
       "    <tr style=\"text-align: right;\">\n",
       "      <th></th>\n",
       "      <th>0</th>\n",
       "    </tr>\n",
       "  </thead>\n",
       "  <tbody>\n",
       "    <tr>\n",
       "      <th>0</th>\n",
       "      <td>[__label__0, @ amazonhelp et en plus se faire ...</td>\n",
       "    </tr>\n",
       "    <tr>\n",
       "      <th>1</th>\n",
       "      <td>[__label__1, @ morrisons @ 641226 standard rep...</td>\n",
       "    </tr>\n",
       "    <tr>\n",
       "      <th>2</th>\n",
       "      <td>[__label__1, @ idea_cares @ 1936 @ 116590 this...</td>\n",
       "    </tr>\n",
       "    <tr>\n",
       "      <th>3</th>\n",
       "      <td>[__label__0, @ askamex yes i did weeks ago and...</td>\n",
       "    </tr>\n",
       "    <tr>\n",
       "      <th>4</th>\n",
       "      <td>[__label__0, @ amazonhelp i do n't want your s...</td>\n",
       "    </tr>\n",
       "  </tbody>\n",
       "</table>\n",
       "</div>"
      ],
      "text/plain": [
       "                                                   0\n",
       "0  [__label__0, @ amazonhelp et en plus se faire ...\n",
       "1  [__label__1, @ morrisons @ 641226 standard rep...\n",
       "2  [__label__1, @ idea_cares @ 1936 @ 116590 this...\n",
       "3  [__label__0, @ askamex yes i did weeks ago and...\n",
       "4  [__label__0, @ amazonhelp i do n't want your s..."
      ]
     },
     "metadata": {},
     "output_type": "display_data"
    },
    {
     "name": "stdout",
     "output_type": "stream",
     "text": [
      "CPU times: user 1min 39s, sys: 386 ms, total: 1min 39s\n",
      "Wall time: 1min 39s\n"
     ]
    }
   ],
   "source": [
    "%%time\n",
    "transformed_train_rows = preprocess(train_df)\n",
    "display(transformed_train_rows.head())"
   ]
  },
  {
   "cell_type": "code",
   "execution_count": 8,
   "metadata": {},
   "outputs": [],
   "source": [
    "transformed_validation_rows.columns = [\"both\"]\n",
    "transformed_train_rows.columns = [\"both\"]\n",
    "\n",
    "transformed_validation_rows[\"text\"] = transformed_validation_rows[\"both\"].apply(lambda x:x[1])\n",
    "transformed_validation_rows[\"label\"] = transformed_validation_rows[\"both\"].apply(lambda x:x[0])\n",
    "\n",
    "transformed_train_rows[\"text\"] = transformed_train_rows[\"both\"].apply(lambda x:x[1])\n",
    "transformed_train_rows[\"label\"] = transformed_train_rows[\"both\"].apply(lambda x:x[0])"
   ]
  },
  {
   "cell_type": "code",
   "execution_count": 9,
   "metadata": {},
   "outputs": [
    {
     "data": {
      "text/html": [
       "<div>\n",
       "<style scoped>\n",
       "    .dataframe tbody tr th:only-of-type {\n",
       "        vertical-align: middle;\n",
       "    }\n",
       "\n",
       "    .dataframe tbody tr th {\n",
       "        vertical-align: top;\n",
       "    }\n",
       "\n",
       "    .dataframe thead th {\n",
       "        text-align: right;\n",
       "    }\n",
       "</style>\n",
       "<table border=\"1\" class=\"dataframe\">\n",
       "  <thead>\n",
       "    <tr style=\"text-align: right;\">\n",
       "      <th></th>\n",
       "      <th>both</th>\n",
       "      <th>text</th>\n",
       "      <th>label</th>\n",
       "    </tr>\n",
       "  </thead>\n",
       "  <tbody>\n",
       "    <tr>\n",
       "      <th>0</th>\n",
       "      <td>[__label__1, @ 115990 no joke ... this is one ...</td>\n",
       "      <td>@ 115990 no joke ... this is one of the worst ...</td>\n",
       "      <td>__label__1</td>\n",
       "    </tr>\n",
       "    <tr>\n",
       "      <th>1</th>\n",
       "      <td>[__label__0, @ amazonhelp primeira camada ... ...</td>\n",
       "      <td>@ amazonhelp primeira camada ... https : //t.c...</td>\n",
       "      <td>__label__0</td>\n",
       "    </tr>\n",
       "    <tr>\n",
       "      <th>2</th>\n",
       "      <td>[__label__1, @ microsofthelps my mistake]</td>\n",
       "      <td>@ microsofthelps my mistake</td>\n",
       "      <td>__label__1</td>\n",
       "    </tr>\n",
       "    <tr>\n",
       "      <th>3</th>\n",
       "      <td>[__label__1, @ 770932 @ americanair they notor...</td>\n",
       "      <td>@ 770932 @ americanair they notoriously do n't...</td>\n",
       "      <td>__label__1</td>\n",
       "    </tr>\n",
       "    <tr>\n",
       "      <th>4</th>\n",
       "      <td>[__label__1, @ amazonhelp neither man seems to...</td>\n",
       "      <td>@ amazonhelp neither man seems to know how to ...</td>\n",
       "      <td>__label__1</td>\n",
       "    </tr>\n",
       "  </tbody>\n",
       "</table>\n",
       "</div>"
      ],
      "text/plain": [
       "                                                both  \\\n",
       "0  [__label__1, @ 115990 no joke ... this is one ...   \n",
       "1  [__label__0, @ amazonhelp primeira camada ... ...   \n",
       "2          [__label__1, @ microsofthelps my mistake]   \n",
       "3  [__label__1, @ 770932 @ americanair they notor...   \n",
       "4  [__label__1, @ amazonhelp neither man seems to...   \n",
       "\n",
       "                                                text       label  \n",
       "0  @ 115990 no joke ... this is one of the worst ...  __label__1  \n",
       "1  @ amazonhelp primeira camada ... https : //t.c...  __label__0  \n",
       "2                        @ microsofthelps my mistake  __label__1  \n",
       "3  @ 770932 @ americanair they notoriously do n't...  __label__1  \n",
       "4  @ amazonhelp neither man seems to know how to ...  __label__1  "
      ]
     },
     "execution_count": 9,
     "metadata": {},
     "output_type": "execute_result"
    }
   ],
   "source": [
    "transformed_validation_rows.head()"
   ]
  },
  {
   "cell_type": "code",
   "execution_count": 10,
   "metadata": {},
   "outputs": [
    {
     "data": {
      "text/html": [
       "<div>\n",
       "<style scoped>\n",
       "    .dataframe tbody tr th:only-of-type {\n",
       "        vertical-align: middle;\n",
       "    }\n",
       "\n",
       "    .dataframe tbody tr th {\n",
       "        vertical-align: top;\n",
       "    }\n",
       "\n",
       "    .dataframe thead th {\n",
       "        text-align: right;\n",
       "    }\n",
       "</style>\n",
       "<table border=\"1\" class=\"dataframe\">\n",
       "  <thead>\n",
       "    <tr style=\"text-align: right;\">\n",
       "      <th></th>\n",
       "      <th>both</th>\n",
       "      <th>text</th>\n",
       "      <th>label</th>\n",
       "    </tr>\n",
       "  </thead>\n",
       "  <tbody>\n",
       "    <tr>\n",
       "      <th>0</th>\n",
       "      <td>[__label__0, @ amazonhelp et en plus se faire ...</td>\n",
       "      <td>@ amazonhelp et en plus se faire engueuler par...</td>\n",
       "      <td>__label__0</td>\n",
       "    </tr>\n",
       "    <tr>\n",
       "      <th>1</th>\n",
       "      <td>[__label__1, @ morrisons @ 641226 standard rep...</td>\n",
       "      <td>@ morrisons @ 641226 standard reply . morrison...</td>\n",
       "      <td>__label__1</td>\n",
       "    </tr>\n",
       "    <tr>\n",
       "      <th>2</th>\n",
       "      <td>[__label__1, @ idea_cares @ 1936 @ 116590 this...</td>\n",
       "      <td>@ idea_cares @ 1936 @ 116590 this is gr8 ... u...</td>\n",
       "      <td>__label__1</td>\n",
       "    </tr>\n",
       "    <tr>\n",
       "      <th>3</th>\n",
       "      <td>[__label__0, @ askamex yes i did weeks ago and...</td>\n",
       "      <td>@ askamex yes i did weeks ago and no response yet</td>\n",
       "      <td>__label__0</td>\n",
       "    </tr>\n",
       "    <tr>\n",
       "      <th>4</th>\n",
       "      <td>[__label__0, @ amazonhelp i do n't want your s...</td>\n",
       "      <td>@ amazonhelp i do n't want your stupid automat...</td>\n",
       "      <td>__label__0</td>\n",
       "    </tr>\n",
       "  </tbody>\n",
       "</table>\n",
       "</div>"
      ],
      "text/plain": [
       "                                                both  \\\n",
       "0  [__label__0, @ amazonhelp et en plus se faire ...   \n",
       "1  [__label__1, @ morrisons @ 641226 standard rep...   \n",
       "2  [__label__1, @ idea_cares @ 1936 @ 116590 this...   \n",
       "3  [__label__0, @ askamex yes i did weeks ago and...   \n",
       "4  [__label__0, @ amazonhelp i do n't want your s...   \n",
       "\n",
       "                                                text       label  \n",
       "0  @ amazonhelp et en plus se faire engueuler par...  __label__0  \n",
       "1  @ morrisons @ 641226 standard reply . morrison...  __label__1  \n",
       "2  @ idea_cares @ 1936 @ 116590 this is gr8 ... u...  __label__1  \n",
       "3  @ askamex yes i did weeks ago and no response yet  __label__0  \n",
       "4  @ amazonhelp i do n't want your stupid automat...  __label__0  "
      ]
     },
     "execution_count": 10,
     "metadata": {},
     "output_type": "execute_result"
    }
   ],
   "source": [
    "transformed_train_rows.head()"
   ]
  },
  {
   "cell_type": "code",
   "execution_count": 11,
   "metadata": {},
   "outputs": [],
   "source": [
    "transformed_validation_rows[\"label_code\"] = transformed_validation_rows.label.apply(lambda x: 0 if x == \"__label__0\" else 1)\n",
    "transformed_train_rows[\"label_code\"] = transformed_train_rows.label.apply(lambda x: 0 if x == \"__label__0\" else 1)"
   ]
  },
  {
   "cell_type": "code",
   "execution_count": 12,
   "metadata": {},
   "outputs": [
    {
     "data": {
      "text/html": [
       "<div>\n",
       "<style scoped>\n",
       "    .dataframe tbody tr th:only-of-type {\n",
       "        vertical-align: middle;\n",
       "    }\n",
       "\n",
       "    .dataframe tbody tr th {\n",
       "        vertical-align: top;\n",
       "    }\n",
       "\n",
       "    .dataframe thead th {\n",
       "        text-align: right;\n",
       "    }\n",
       "</style>\n",
       "<table border=\"1\" class=\"dataframe\">\n",
       "  <thead>\n",
       "    <tr style=\"text-align: right;\">\n",
       "      <th></th>\n",
       "      <th>both</th>\n",
       "      <th>text</th>\n",
       "      <th>label</th>\n",
       "      <th>label_code</th>\n",
       "    </tr>\n",
       "  </thead>\n",
       "  <tbody>\n",
       "    <tr>\n",
       "      <th>0</th>\n",
       "      <td>[__label__1, @ 115990 no joke ... this is one ...</td>\n",
       "      <td>@ 115990 no joke ... this is one of the worst ...</td>\n",
       "      <td>__label__1</td>\n",
       "      <td>1</td>\n",
       "    </tr>\n",
       "    <tr>\n",
       "      <th>1</th>\n",
       "      <td>[__label__0, @ amazonhelp primeira camada ... ...</td>\n",
       "      <td>@ amazonhelp primeira camada ... https : //t.c...</td>\n",
       "      <td>__label__0</td>\n",
       "      <td>0</td>\n",
       "    </tr>\n",
       "    <tr>\n",
       "      <th>2</th>\n",
       "      <td>[__label__1, @ microsofthelps my mistake]</td>\n",
       "      <td>@ microsofthelps my mistake</td>\n",
       "      <td>__label__1</td>\n",
       "      <td>1</td>\n",
       "    </tr>\n",
       "    <tr>\n",
       "      <th>3</th>\n",
       "      <td>[__label__1, @ 770932 @ americanair they notor...</td>\n",
       "      <td>@ 770932 @ americanair they notoriously do n't...</td>\n",
       "      <td>__label__1</td>\n",
       "      <td>1</td>\n",
       "    </tr>\n",
       "    <tr>\n",
       "      <th>4</th>\n",
       "      <td>[__label__1, @ amazonhelp neither man seems to...</td>\n",
       "      <td>@ amazonhelp neither man seems to know how to ...</td>\n",
       "      <td>__label__1</td>\n",
       "      <td>1</td>\n",
       "    </tr>\n",
       "  </tbody>\n",
       "</table>\n",
       "</div>"
      ],
      "text/plain": [
       "                                                both  \\\n",
       "0  [__label__1, @ 115990 no joke ... this is one ...   \n",
       "1  [__label__0, @ amazonhelp primeira camada ... ...   \n",
       "2          [__label__1, @ microsofthelps my mistake]   \n",
       "3  [__label__1, @ 770932 @ americanair they notor...   \n",
       "4  [__label__1, @ amazonhelp neither man seems to...   \n",
       "\n",
       "                                                text       label  label_code  \n",
       "0  @ 115990 no joke ... this is one of the worst ...  __label__1           1  \n",
       "1  @ amazonhelp primeira camada ... https : //t.c...  __label__0           0  \n",
       "2                        @ microsofthelps my mistake  __label__1           1  \n",
       "3  @ 770932 @ americanair they notoriously do n't...  __label__1           1  \n",
       "4  @ amazonhelp neither man seems to know how to ...  __label__1           1  "
      ]
     },
     "execution_count": 12,
     "metadata": {},
     "output_type": "execute_result"
    }
   ],
   "source": [
    "transformed_validation_rows.head()"
   ]
  },
  {
   "cell_type": "code",
   "execution_count": 13,
   "metadata": {},
   "outputs": [
    {
     "data": {
      "text/html": [
       "<div>\n",
       "<style scoped>\n",
       "    .dataframe tbody tr th:only-of-type {\n",
       "        vertical-align: middle;\n",
       "    }\n",
       "\n",
       "    .dataframe tbody tr th {\n",
       "        vertical-align: top;\n",
       "    }\n",
       "\n",
       "    .dataframe thead th {\n",
       "        text-align: right;\n",
       "    }\n",
       "</style>\n",
       "<table border=\"1\" class=\"dataframe\">\n",
       "  <thead>\n",
       "    <tr style=\"text-align: right;\">\n",
       "      <th></th>\n",
       "      <th>both</th>\n",
       "      <th>text</th>\n",
       "      <th>label</th>\n",
       "      <th>label_code</th>\n",
       "    </tr>\n",
       "  </thead>\n",
       "  <tbody>\n",
       "    <tr>\n",
       "      <th>0</th>\n",
       "      <td>[__label__0, @ amazonhelp et en plus se faire ...</td>\n",
       "      <td>@ amazonhelp et en plus se faire engueuler par...</td>\n",
       "      <td>__label__0</td>\n",
       "      <td>0</td>\n",
       "    </tr>\n",
       "    <tr>\n",
       "      <th>1</th>\n",
       "      <td>[__label__1, @ morrisons @ 641226 standard rep...</td>\n",
       "      <td>@ morrisons @ 641226 standard reply . morrison...</td>\n",
       "      <td>__label__1</td>\n",
       "      <td>1</td>\n",
       "    </tr>\n",
       "    <tr>\n",
       "      <th>2</th>\n",
       "      <td>[__label__1, @ idea_cares @ 1936 @ 116590 this...</td>\n",
       "      <td>@ idea_cares @ 1936 @ 116590 this is gr8 ... u...</td>\n",
       "      <td>__label__1</td>\n",
       "      <td>1</td>\n",
       "    </tr>\n",
       "    <tr>\n",
       "      <th>3</th>\n",
       "      <td>[__label__0, @ askamex yes i did weeks ago and...</td>\n",
       "      <td>@ askamex yes i did weeks ago and no response yet</td>\n",
       "      <td>__label__0</td>\n",
       "      <td>0</td>\n",
       "    </tr>\n",
       "    <tr>\n",
       "      <th>4</th>\n",
       "      <td>[__label__0, @ amazonhelp i do n't want your s...</td>\n",
       "      <td>@ amazonhelp i do n't want your stupid automat...</td>\n",
       "      <td>__label__0</td>\n",
       "      <td>0</td>\n",
       "    </tr>\n",
       "  </tbody>\n",
       "</table>\n",
       "</div>"
      ],
      "text/plain": [
       "                                                both  \\\n",
       "0  [__label__0, @ amazonhelp et en plus se faire ...   \n",
       "1  [__label__1, @ morrisons @ 641226 standard rep...   \n",
       "2  [__label__1, @ idea_cares @ 1936 @ 116590 this...   \n",
       "3  [__label__0, @ askamex yes i did weeks ago and...   \n",
       "4  [__label__0, @ amazonhelp i do n't want your s...   \n",
       "\n",
       "                                                text       label  label_code  \n",
       "0  @ amazonhelp et en plus se faire engueuler par...  __label__0           0  \n",
       "1  @ morrisons @ 641226 standard reply . morrison...  __label__1           1  \n",
       "2  @ idea_cares @ 1936 @ 116590 this is gr8 ... u...  __label__1           1  \n",
       "3  @ askamex yes i did weeks ago and no response yet  __label__0           0  \n",
       "4  @ amazonhelp i do n't want your stupid automat...  __label__0           0  "
      ]
     },
     "execution_count": 13,
     "metadata": {},
     "output_type": "execute_result"
    }
   ],
   "source": [
    "transformed_train_rows.head()"
   ]
  },
  {
   "cell_type": "code",
   "execution_count": null,
   "metadata": {},
   "outputs": [],
   "source": []
  },
  {
   "cell_type": "code",
   "execution_count": null,
   "metadata": {},
   "outputs": [],
   "source": []
  },
  {
   "cell_type": "markdown",
   "metadata": {},
   "source": [
    "## Part 4: Train the model"
   ]
  },
  {
   "cell_type": "code",
   "execution_count": 14,
   "metadata": {},
   "outputs": [],
   "source": [
    "from sklearn.feature_extraction.text import CountVectorizer, TfidfTransformer\n",
    "from sklearn.naive_bayes import MultinomialNB, BernoulliNB\n",
    "from sklearn.linear_model import LogisticRegression"
   ]
  },
  {
   "cell_type": "code",
   "execution_count": 15,
   "metadata": {},
   "outputs": [],
   "source": [
    "count_vect = CountVectorizer()\n",
    "train_input = count_vect.fit_transform(transformed_train_rows[\"text\"])"
   ]
  },
  {
   "cell_type": "code",
   "execution_count": 16,
   "metadata": {},
   "outputs": [],
   "source": [
    "validation_input = count_vect.transform(transformed_validation_rows[\"text\"])"
   ]
  },
  {
   "cell_type": "code",
   "execution_count": 17,
   "metadata": {},
   "outputs": [],
   "source": [
    "tfidf = TfidfTransformer()\n",
    "train_idf = tfidf.fit_transform(train_input)"
   ]
  },
  {
   "cell_type": "code",
   "execution_count": 18,
   "metadata": {},
   "outputs": [],
   "source": [
    "validation_idf = tfidf.transform(validation_input)"
   ]
  },
  {
   "cell_type": "code",
   "execution_count": 19,
   "metadata": {},
   "outputs": [],
   "source": [
    "classifier_1 = BernoulliNB()\n",
    "classifier_2 = MultinomialNB()\n",
    "classifier_3 = LogisticRegression()"
   ]
  },
  {
   "cell_type": "code",
   "execution_count": 20,
   "metadata": {},
   "outputs": [
    {
     "name": "stderr",
     "output_type": "stream",
     "text": [
      "/opt/conda/lib/python3.7/site-packages/sklearn/linear_model/logistic.py:432: FutureWarning: Default solver will be changed to 'lbfgs' in 0.22. Specify a solver to silence this warning.\n",
      "  FutureWarning)\n"
     ]
    },
    {
     "data": {
      "text/plain": [
       "LogisticRegression(C=1.0, class_weight=None, dual=False, fit_intercept=True,\n",
       "                   intercept_scaling=1, l1_ratio=None, max_iter=100,\n",
       "                   multi_class='warn', n_jobs=None, penalty='l2',\n",
       "                   random_state=None, solver='warn', tol=0.0001, verbose=0,\n",
       "                   warm_start=False)"
      ]
     },
     "execution_count": 20,
     "metadata": {},
     "output_type": "execute_result"
    }
   ],
   "source": [
    "classifier_1.fit(train_idf, transformed_train_rows[\"label_code\"])\n",
    "classifier_2.fit(train_idf, transformed_train_rows[\"label_code\"])\n",
    "classifier_3.fit(train_idf, transformed_train_rows[\"label_code\"])"
   ]
  },
  {
   "cell_type": "code",
   "execution_count": 21,
   "metadata": {},
   "outputs": [
    {
     "data": {
      "text/plain": [
       "0.807736249387955"
      ]
     },
     "execution_count": 21,
     "metadata": {},
     "output_type": "execute_result"
    }
   ],
   "source": [
    "(transformed_validation_rows[\"label_code\"] == classifier_1.predict(validation_idf)).mean()"
   ]
  },
  {
   "cell_type": "code",
   "execution_count": 22,
   "metadata": {},
   "outputs": [
    {
     "data": {
      "text/plain": [
       "0.8082642882516153"
      ]
     },
     "execution_count": 22,
     "metadata": {},
     "output_type": "execute_result"
    }
   ],
   "source": [
    "(transformed_validation_rows[\"label_code\"] == classifier_2.predict(validation_idf)).mean()"
   ]
  },
  {
   "cell_type": "code",
   "execution_count": 23,
   "metadata": {},
   "outputs": [
    {
     "data": {
      "text/plain": [
       "0.90742038614042"
      ]
     },
     "execution_count": 23,
     "metadata": {},
     "output_type": "execute_result"
    }
   ],
   "source": [
    "(transformed_validation_rows[\"label_code\"] == classifier_3.predict(validation_idf)).mean()"
   ]
  },
  {
   "cell_type": "markdown",
   "metadata": {},
   "source": [
    "### It turns out that the Logistic Regression performed best on the validation data. "
   ]
  },
  {
   "cell_type": "markdown",
   "metadata": {},
   "source": [
    "## Test the Model"
   ]
  },
  {
   "cell_type": "code",
   "execution_count": 24,
   "metadata": {},
   "outputs": [],
   "source": [
    "tweet = \"I'm not angry!\"\n",
    "\n",
    "tokenized_tweet = [' '.join(nltk.word_tokenize(tweet))]"
   ]
  },
  {
   "cell_type": "code",
   "execution_count": 25,
   "metadata": {},
   "outputs": [
    {
     "data": {
      "text/plain": [
       "[\"I 'm not angry !\"]"
      ]
     },
     "execution_count": 25,
     "metadata": {},
     "output_type": "execute_result"
    }
   ],
   "source": [
    "tokenized_tweet"
   ]
  },
  {
   "cell_type": "code",
   "execution_count": 26,
   "metadata": {},
   "outputs": [],
   "source": [
    "data = pd.DataFrame({\"text\":tokenized_tweet})\n",
    "input_x = count_vect.transform(data[\"text\"])\n",
    "input_tfidf = tfidf.transform(input_x)"
   ]
  },
  {
   "cell_type": "code",
   "execution_count": 27,
   "metadata": {},
   "outputs": [
    {
     "data": {
      "text/plain": [
       "array([0])"
      ]
     },
     "execution_count": 27,
     "metadata": {},
     "output_type": "execute_result"
    }
   ],
   "source": [
    "classifier_1.predict(input_tfidf)"
   ]
  },
  {
   "cell_type": "code",
   "execution_count": 28,
   "metadata": {},
   "outputs": [
    {
     "data": {
      "text/plain": [
       "array([1])"
      ]
     },
     "execution_count": 28,
     "metadata": {},
     "output_type": "execute_result"
    }
   ],
   "source": [
    "classifier_2.predict(input_tfidf)"
   ]
  },
  {
   "cell_type": "code",
   "execution_count": 29,
   "metadata": {},
   "outputs": [
    {
     "data": {
      "text/plain": [
       "array([1])"
      ]
     },
     "execution_count": 29,
     "metadata": {},
     "output_type": "execute_result"
    }
   ],
   "source": [
    "classifier_3.predict(input_tfidf)"
   ]
  },
  {
   "cell_type": "code",
   "execution_count": null,
   "metadata": {},
   "outputs": [],
   "source": []
  }
 ],
 "metadata": {
  "kernelspec": {
   "display_name": "Python 3",
   "language": "python",
   "name": "python3"
  },
  "language_info": {
   "codemirror_mode": {
    "name": "ipython",
    "version": 3
   },
   "file_extension": ".py",
   "mimetype": "text/x-python",
   "name": "python",
   "nbconvert_exporter": "python",
   "pygments_lexer": "ipython3",
   "version": "3.7.3"
  }
 },
 "nbformat": 4,
 "nbformat_minor": 4
}
